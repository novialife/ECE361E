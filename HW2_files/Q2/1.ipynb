{
 "cells": [
  {
   "cell_type": "code",
   "execution_count": 148,
   "metadata": {},
   "outputs": [],
   "source": [
    "import pandas as pd"
   ]
  },
  {
   "cell_type": "code",
   "execution_count": 149,
   "metadata": {},
   "outputs": [],
   "source": [
    "training = pd.read_csv('training_dataset.csv')\n",
    "testing_bodytrack = pd.read_csv('testing_bodytrack.csv')\n",
    "testing_blackscholes = pd.read_csv('testing_blackscholes.csv')"
   ]
  },
  {
   "cell_type": "code",
   "execution_count": 150,
   "metadata": {},
   "outputs": [],
   "source": [
    "# Make a label column. The label is \"cluster active\" if w_big > 1, and \"cluster idle\" otherwise.\n",
    "training['y'] = training['w_big'].apply(lambda x: 0 if x > 1 else 1)\n",
    "testing_bodytrack['y'] = testing_bodytrack['w_big'].apply(lambda x: 0 if x > 1 else 1)\n",
    "testing_blackscholes['y'] = testing_blackscholes['w_big'].apply(lambda x: 0 if x > 1 else 1)"
   ]
  },
  {
   "cell_type": "code",
   "execution_count": 151,
   "metadata": {},
   "outputs": [],
   "source": [
    "import numpy as np\n",
    "from scipy import stats\n",
    "zscore = np.abs(stats.zscore(training.select_dtypes(include=[\"float\", \"int\"])))\n",
    "ZSCORE_THREASHOLD = 4\n",
    "\n",
    "is_inlier = ~ (zscore > ZSCORE_THREASHOLD).any(axis=1)\n",
    "train_data = training[is_inlier]"
   ]
  },
  {
   "cell_type": "code",
   "execution_count": 152,
   "metadata": {},
   "outputs": [],
   "source": [
    "from sklearn.pipeline import Pipeline\n",
    "from sklearn.preprocessing import StandardScaler\n",
    "from sklearn.decomposition import PCA\n",
    "from sklearn.impute import SimpleImputer\n",
    "\n",
    "numerical_transformer = Pipeline(steps=[\n",
    "    ('imputer', SimpleImputer(strategy='median')),\n",
    "    ('pca', PCA(n_components=5)),\n",
    "    ('scaler', StandardScaler())\n",
    "])"
   ]
  },
  {
   "cell_type": "code",
   "execution_count": null,
   "metadata": {},
   "outputs": [],
   "source": [
    "import numpy as np\n",
    "from sklearn.svm import SVC\n",
    "from sklearn.model_selection import RandomizedSearchCV\n",
    "from sklearn.model_selection import StratifiedKFold\n",
    "pipeline = Pipeline(steps=[('preprocessor', numerical_transformer),\n",
    "                            ('SVM', SVC(random_state=42))])\n",
    "\n",
    "params = {\n",
    "    'SVM__C': np.logspace(-3, 3, 10),\n",
    "    'SVM__gamma': np.logspace(-3, 3, 10),\n",
    "    'SVM__kernel': ['rbf', 'poly', 'sigmoid'],\n",
    "    'SVM__class_weight': ['balanced', None],\n",
    "    'SVM__decision_function_shape': ['ovo', 'ovr'],\n",
    "    'SVM__random_state': [42], \n",
    "    'SVM__max_iter': [10000]\n",
    "}\n",
    "\n",
    "cv = StratifiedKFold(shuffle=True, random_state=42, n_splits=10)\n",
    "rfr_random = RandomizedSearchCV(pipeline, param_distributions=params, n_iter = 10000, cv = cv, verbose=1, random_state=42, n_jobs=-1, return_train_score=True)\n",
    "print(\"Fitting now\")\n",
    "X = train_data.drop(\"y\", axis=1)\n",
    "y = train_data[\"y\"]\n",
    "rfr_random.fit(X, y)\n",
    "rfr_random.best_score_"
   ]
  },
  {
   "cell_type": "code",
   "execution_count": 154,
   "metadata": {},
   "outputs": [
    {
     "data": {
      "text/plain": [
       "{'SVM__random_state': 42,\n",
       " 'SVM__max_iter': 10000,\n",
       " 'SVM__kernel': 'rbf',\n",
       " 'SVM__gamma': 0.021544346900318832,\n",
       " 'SVM__decision_function_shape': 'ovo',\n",
       " 'SVM__class_weight': None,\n",
       " 'SVM__C': 215.44346900318823}"
      ]
     },
     "execution_count": 154,
     "metadata": {},
     "output_type": "execute_result"
    }
   ],
   "source": [
    "rfr_random.best_params_"
   ]
  },
  {
   "cell_type": "code",
   "execution_count": 155,
   "metadata": {},
   "outputs": [],
   "source": [
    "from sklearn.metrics import accuracy_score\n",
    "from sklearn.metrics import confusion_matrix\n",
    "from sklearn.metrics import classification_report"
   ]
  },
  {
   "cell_type": "code",
   "execution_count": 156,
   "metadata": {},
   "outputs": [
    {
     "name": "stdout",
     "output_type": "stream",
     "text": [
      "[[526 382]\n",
      " [296 250]]\n",
      "0.5337001375515819\n",
      "              precision    recall  f1-score   support\n",
      "\n",
      "           0       0.64      0.58      0.61       908\n",
      "           1       0.40      0.46      0.42       546\n",
      "\n",
      "    accuracy                           0.53      1454\n",
      "   macro avg       0.52      0.52      0.52      1454\n",
      "weighted avg       0.55      0.53      0.54      1454\n",
      "\n"
     ]
    }
   ],
   "source": [
    "# Predict the labels of the test set: y_pred\n",
    "y_pred = rfr_random.predict(testing_bodytrack.drop('y', axis=1))\n",
    "\n",
    "# Compute the confusion matrix: cm\n",
    "print(confusion_matrix(testing_bodytrack['y'], y_pred))\n",
    "\n",
    "# Print the accuracy\n",
    "print(accuracy_score(testing_bodytrack['y'], y_pred))\n",
    "\n",
    "# Print the classification report\n",
    "print(classification_report(testing_bodytrack['y'], y_pred))"
   ]
  },
  {
   "cell_type": "code",
   "execution_count": 157,
   "metadata": {},
   "outputs": [
    {
     "name": "stdout",
     "output_type": "stream",
     "text": [
      "[[611 487]\n",
      " [506  49]]\n",
      "0.3992740471869328\n",
      "              precision    recall  f1-score   support\n",
      "\n",
      "           0       0.55      0.56      0.55      1098\n",
      "           1       0.09      0.09      0.09       555\n",
      "\n",
      "    accuracy                           0.40      1653\n",
      "   macro avg       0.32      0.32      0.32      1653\n",
      "weighted avg       0.39      0.40      0.40      1653\n",
      "\n"
     ]
    }
   ],
   "source": [
    "# Predict the labels of the test set: y_pred\n",
    "y_pred = rfr_random.predict(testing_blackscholes.drop('y', axis=1))\n",
    "\n",
    "# Compute the confusion matrix: cm\n",
    "print(confusion_matrix(testing_blackscholes['y'], y_pred))\n",
    "\n",
    "# Print the accuracy\n",
    "print(accuracy_score(testing_blackscholes['y'], y_pred))\n",
    "\n",
    "# Print the classification report\n",
    "print(classification_report(testing_blackscholes['y'], y_pred))"
   ]
  }
 ],
 "metadata": {
  "kernelspec": {
   "display_name": "Python 3",
   "language": "python",
   "name": "python3"
  },
  "language_info": {
   "codemirror_mode": {
    "name": "ipython",
    "version": 3
   },
   "file_extension": ".py",
   "mimetype": "text/x-python",
   "name": "python",
   "nbconvert_exporter": "python",
   "pygments_lexer": "ipython3",
   "version": "3.10.7"
  },
  "orig_nbformat": 4,
  "vscode": {
   "interpreter": {
    "hash": "98590ff4fe04c8543246b2a01debd3de3c5ca9b666f43f1fa87d5110c692004c"
   }
  }
 },
 "nbformat": 4,
 "nbformat_minor": 2
}
