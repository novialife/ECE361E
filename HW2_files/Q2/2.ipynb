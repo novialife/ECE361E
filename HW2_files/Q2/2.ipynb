{
 "cells": [
  {
   "cell_type": "code",
   "execution_count": 16,
   "metadata": {},
   "outputs": [],
   "source": [
    "import pandas as pd\n",
    "\n",
    "training = pd.read_csv('training_dataset.csv')\n",
    "blackscholes = pd.read_csv('testing_blackscholes.csv')\n",
    "bodytrack = pd.read_csv('testing_bodytrack.csv')\n",
    "\n",
    "datasets = {\"training\": training, \"blackscholes\": blackscholes, \"bodytrack\": bodytrack}"
   ]
  },
  {
   "cell_type": "code",
   "execution_count": 18,
   "metadata": {},
   "outputs": [
    {
     "name": "stdout",
     "output_type": "stream",
     "text": [
      "Dataset: training\n",
      "r^2: 0.9853221792008559\n",
      "MSE: 0.0102523832793711\n",
      "\n",
      "Dataset: blackscholes\n",
      "r^2: 0.9974316264878532\n",
      "MSE: 0.0034407659851158397\n",
      "\n",
      "Dataset: bodytrack\n",
      "r^2: 0.9590225864966417\n",
      "MSE: 0.06529696746355917\n",
      "\n"
     ]
    }
   ],
   "source": [
    "from sklearn.linear_model import LinearRegression\n",
    "from sklearn.model_selection import train_test_split\n",
    "from sklearn.metrics import r2_score\n",
    "import numpy as np\n",
    "\n",
    "\n",
    "for dataset_name in datasets.keys():\n",
    "    dataset = datasets[dataset_name]\n",
    "    x = dataset.drop([\"total_watts\", \"w_big\", \"w_little\", \"w_gpu\", \"w_mem\"], axis=1)\n",
    "    y= dataset[\"w_big\"]\n",
    "\n",
    "    x_train, x_test, y_train, y_test = train_test_split(x, y, test_size=0.2, random_state=42)\n",
    "\n",
    "    reg = LinearRegression()\n",
    "\n",
    "    reg.fit(x_train, y_train)\n",
    "    r2 = r2_score(y_test, reg.predict(x_test))\n",
    "    y_pred = reg.predict(x_test)\n",
    "    mse = np.mean((y_pred - y_test)**2)\n",
    "\n",
    "    print(\"Dataset: {}\".format(dataset_name))\n",
    "    print(\"r^2: {}\".format(r2))\n",
    "    print(\"MSE: {}\".format(mse))\n",
    "    print()"
   ]
  }
 ],
 "metadata": {
  "kernelspec": {
   "display_name": "Python 3",
   "language": "python",
   "name": "python3"
  },
  "language_info": {
   "codemirror_mode": {
    "name": "ipython",
    "version": 3
   },
   "file_extension": ".py",
   "mimetype": "text/x-python",
   "name": "python",
   "nbconvert_exporter": "python",
   "pygments_lexer": "ipython3",
   "version": "3.11.1"
  },
  "orig_nbformat": 4,
  "vscode": {
   "interpreter": {
    "hash": "aee8b7b246df8f9039afb4144a1f6fd8d2ca17a180786b69acc140d282b71a49"
   }
  }
 },
 "nbformat": 4,
 "nbformat_minor": 2
}
