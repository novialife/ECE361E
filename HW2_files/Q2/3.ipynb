{
 "cells": [
  {
   "cell_type": "markdown",
   "metadata": {},
   "source": []
  },
  {
   "cell_type": "code",
   "execution_count": 21,
   "metadata": {},
   "outputs": [],
   "source": [
    "import pandas as pd\n",
    "import numpy as np\n",
    "from sklearn.linear_model import LinearRegression"
   ]
  },
  {
   "cell_type": "code",
   "execution_count": 22,
   "metadata": {},
   "outputs": [],
   "source": [
    "training = pd.read_csv('training_dataset.csv')"
   ]
  },
  {
   "cell_type": "code",
   "execution_count": 23,
   "metadata": {},
   "outputs": [],
   "source": [
    "voltages = [0.975, 1, 1.1375, 1.362]\n",
    "frequencies = [0.9, 1, 1.5, 2]\n",
    "frequencies = [f * 1e9 for f in frequencies]\n",
    "\n",
    "# Map voltages to frequencies\n",
    "frequency_to_voltage = dict(zip(frequencies, voltages))"
   ]
  },
  {
   "cell_type": "code",
   "execution_count": 24,
   "metadata": {},
   "outputs": [],
   "source": [
    "# Using the frequency_to_voltage map, create a new column in the training dataset that is calculated by V^2 * f\n",
    "training['Dynamic Power'] = training['freq_big_cluster'].map(frequency_to_voltage) ** 2 * training['freq_big_cluster']\n"
   ]
  },
  {
   "cell_type": "code",
   "execution_count": 25,
   "metadata": {},
   "outputs": [
    {
     "name": "stdout",
     "output_type": "stream",
     "text": [
      "Feature: 0, Score: 0.09219\n",
      "Feature: 1, Score: 0.06229\n",
      "Feature: 2, Score: 0.00159\n",
      "Feature: 3, Score: 0.11548\n",
      "Feature: 4, Score: 0.12317\n",
      "Feature: 5, Score: 0.07169\n",
      "Feature: 6, Score: 0.02206\n",
      "Feature: 7, Score: 0.07086\n",
      "Feature: 8, Score: -0.27446\n",
      "Feature: 9, Score: -0.00000\n",
      "Feature: 10, Score: 0.00000\n"
     ]
    },
    {
     "data": {
      "image/png": "[encoded data removed]",
      "text/plain": [
       "<Figure size 640x480 with 1 Axes>"
      ]
     },
     "metadata": {},
     "output_type": "display_data"
    }
   ],
   "source": [
    "x = training.drop([\"total_watts\", \"w_big\", \"w_little\", \"w_gpu\", \"w_mem\"], axis=1)\n",
    "y= training[\"w_big\"]\n",
    "\n",
    "from sklearn.model_selection import train_test_split\n",
    "x_train, x_test, y_train, y_test = train_test_split(x, y, test_size=0.2, random_state=42)\n",
    "\n",
    "reg = LinearRegression()\n",
    "\n",
    "reg.fit(x_train, y_train)\n",
    "\n",
    "import matplotlib.pyplot as plt\n",
    "# get importance\n",
    "importance = reg.coef_\n",
    "# summarize feature importance\n",
    "for i,v in enumerate(importance):\n",
    "    print('Feature: %0d, Score: %.5f' % (i,v))\n",
    "# plot feature importance\n",
    "plt.bar([x for x in range(len(importance))], importance)\n",
    "plt.show()"
   ]
  }
 ],
 "metadata": {
  "kernelspec": {
   "display_name": "Python 3",
   "language": "python",
   "name": "python3"
  },
  "language_info": {
   "codemirror_mode": {
    "name": "ipython",
    "version": 3
   },
   "file_extension": ".py",
   "mimetype": "text/x-python",
   "name": "python",
   "nbconvert_exporter": "python",
   "pygments_lexer": "ipython3",
   "version": "3.11.1"
  },
  "orig_nbformat": 4,
  "vscode": {
   "interpreter": {
    "hash": "aee8b7b246df8f9039afb4144a1f6fd8d2ca17a180786b69acc140d282b71a49"
   }
  }
 },
 "nbformat": 4,
 "nbformat_minor": 2
}
